{
 "cells": [
  {
   "cell_type": "markdown",
   "id": "e27819bd",
   "metadata": {},
   "source": [
    "# Basic of networkx"
   ]
  },
  {
   "cell_type": "code",
   "execution_count": 1,
   "id": "bf378c5f",
   "metadata": {},
   "outputs": [],
   "source": [
    "import networkx as nx\n",
    "import matplotlib.pyplot as plt\n",
    "import random\n",
    "# setting up the chart size and background\n",
    "plt.rcParams['figure.figsize'] = (16, 8)\n",
    "plt.style.use('fivethirtyeight')"
   ]
  },
  {
   "cell_type": "code",
   "execution_count": 2,
   "id": "b7a630bd",
   "metadata": {},
   "outputs": [],
   "source": [
    "# !pip install networkx"
   ]
  },
  {
   "cell_type": "code",
   "execution_count": 3,
   "id": "8400f4aa",
   "metadata": {},
   "outputs": [
    {
     "data": {
      "text/plain": [
       "NodeView((1, 2, 3, 4, 5, 6))"
      ]
     },
     "execution_count": 3,
     "metadata": {},
     "output_type": "execute_result"
    }
   ],
   "source": [
    "\"\"\"Creating a Graph object and assigning it to G\"\"\"\n",
    "G = nx.Graph()\n",
    "\n",
    "\"\"\"To add a node\"\"\"\n",
    "G.add_node(1)\n",
    "G.add_node(2)\n",
    "G.add_node(3)\n",
    "G.add_node(4)\n",
    "G.add_node(5)\n",
    "G.add_node(6)\n",
    "\n",
    "\"\"\"To view the Node\"\"\"\n",
    "G.nodes()     "
   ]
  },
  {
   "cell_type": "code",
   "execution_count": 4,
   "id": "a46827ac",
   "metadata": {},
   "outputs": [
    {
     "name": "stdout",
     "output_type": "stream",
     "text": [
      "[(1, 3), (1, 2), (2, 3), (4, 6), (4, 5)]\n",
      "[(1, 3), (1, 2), (2, 3), (2, 6), (4, 6), (4, 5)]\n"
     ]
    }
   ],
   "source": [
    "\"\"\"Adding Edges\"\"\"\n",
    "\n",
    "G.add_edge(2,3)\n",
    "G.add_edge(1,3)\n",
    "G.add_edge(4,6)\n",
    "G.add_edge(2,3)\n",
    "G.add_edge(4,5)\n",
    "G.add_edge(1,2)\n",
    "\n",
    "\"\"\"View the edges\"\"\"\n",
    "print(G.edges())\n",
    "\n",
    "\"\"\"Adding another edge and viewing the change\"\"\"\n",
    "G.add_edge(2,6)\n",
    "print(G.edges())"
   ]
  },
  {
   "cell_type": "code",
   "execution_count": 5,
   "id": "76a12588",
   "metadata": {},
   "outputs": [
    {
     "ename": "NetworkXError",
     "evalue": "random_state_index is incorrect",
     "output_type": "error",
     "traceback": [
      "\u001b[1;31m---------------------------------------------------------------------------\u001b[0m",
      "\u001b[1;31mIndexError\u001b[0m                                Traceback (most recent call last)",
      "\u001b[1;32m~\\anaconda3\\lib\\site-packages\\networkx\\utils\\decorators.py\u001b[0m in \u001b[0;36m_random_state\u001b[1;34m(func, *args, **kwargs)\u001b[0m\n\u001b[0;32m    395\u001b[0m         \u001b[1;32mtry\u001b[0m\u001b[1;33m:\u001b[0m\u001b[1;33m\u001b[0m\u001b[1;33m\u001b[0m\u001b[0m\n\u001b[1;32m--> 396\u001b[1;33m             \u001b[0mrandom_state_arg\u001b[0m \u001b[1;33m=\u001b[0m \u001b[0margs\u001b[0m\u001b[1;33m[\u001b[0m\u001b[0mrandom_state_index\u001b[0m\u001b[1;33m]\u001b[0m\u001b[1;33m\u001b[0m\u001b[1;33m\u001b[0m\u001b[0m\n\u001b[0m\u001b[0;32m    397\u001b[0m         \u001b[1;32mexcept\u001b[0m \u001b[0mTypeError\u001b[0m \u001b[1;32mas\u001b[0m \u001b[0me\u001b[0m\u001b[1;33m:\u001b[0m\u001b[1;33m\u001b[0m\u001b[1;33m\u001b[0m\u001b[0m\n",
      "\u001b[1;31mIndexError\u001b[0m: tuple index out of range",
      "\nThe above exception was the direct cause of the following exception:\n",
      "\u001b[1;31mNetworkXError\u001b[0m                             Traceback (most recent call last)",
      "\u001b[1;32m<ipython-input-5-6b657979c632>\u001b[0m in \u001b[0;36m<module>\u001b[1;34m\u001b[0m\n\u001b[1;32m----> 1\u001b[1;33m \u001b[0mnx\u001b[0m\u001b[1;33m.\u001b[0m\u001b[0mdraw\u001b[0m\u001b[1;33m(\u001b[0m\u001b[0mG\u001b[0m\u001b[1;33m)\u001b[0m\u001b[1;33m\u001b[0m\u001b[1;33m\u001b[0m\u001b[0m\n\u001b[0m\u001b[0;32m      2\u001b[0m \u001b[0mplt\u001b[0m\u001b[1;33m.\u001b[0m\u001b[0mshow\u001b[0m\u001b[1;33m(\u001b[0m\u001b[1;33m)\u001b[0m\u001b[1;33m\u001b[0m\u001b[1;33m\u001b[0m\u001b[0m\n",
      "\u001b[1;32m~\\anaconda3\\lib\\site-packages\\networkx\\drawing\\nx_pylab.py\u001b[0m in \u001b[0;36mdraw\u001b[1;34m(G, pos, ax, **kwds)\u001b[0m\n\u001b[0;32m    121\u001b[0m         \u001b[0mkwds\u001b[0m\u001b[1;33m[\u001b[0m\u001b[1;34m\"with_labels\"\u001b[0m\u001b[1;33m]\u001b[0m \u001b[1;33m=\u001b[0m \u001b[1;34m\"labels\"\u001b[0m \u001b[1;32min\u001b[0m \u001b[0mkwds\u001b[0m\u001b[1;33m\u001b[0m\u001b[1;33m\u001b[0m\u001b[0m\n\u001b[0;32m    122\u001b[0m \u001b[1;33m\u001b[0m\u001b[0m\n\u001b[1;32m--> 123\u001b[1;33m     \u001b[0mdraw_networkx\u001b[0m\u001b[1;33m(\u001b[0m\u001b[0mG\u001b[0m\u001b[1;33m,\u001b[0m \u001b[0mpos\u001b[0m\u001b[1;33m=\u001b[0m\u001b[0mpos\u001b[0m\u001b[1;33m,\u001b[0m \u001b[0max\u001b[0m\u001b[1;33m=\u001b[0m\u001b[0max\u001b[0m\u001b[1;33m,\u001b[0m \u001b[1;33m**\u001b[0m\u001b[0mkwds\u001b[0m\u001b[1;33m)\u001b[0m\u001b[1;33m\u001b[0m\u001b[1;33m\u001b[0m\u001b[0m\n\u001b[0m\u001b[0;32m    124\u001b[0m     \u001b[0max\u001b[0m\u001b[1;33m.\u001b[0m\u001b[0mset_axis_off\u001b[0m\u001b[1;33m(\u001b[0m\u001b[1;33m)\u001b[0m\u001b[1;33m\u001b[0m\u001b[1;33m\u001b[0m\u001b[0m\n\u001b[0;32m    125\u001b[0m     \u001b[0mplt\u001b[0m\u001b[1;33m.\u001b[0m\u001b[0mdraw_if_interactive\u001b[0m\u001b[1;33m(\u001b[0m\u001b[1;33m)\u001b[0m\u001b[1;33m\u001b[0m\u001b[1;33m\u001b[0m\u001b[0m\n",
      "\u001b[1;32m~\\anaconda3\\lib\\site-packages\\networkx\\drawing\\nx_pylab.py\u001b[0m in \u001b[0;36mdraw_networkx\u001b[1;34m(G, pos, arrows, with_labels, **kwds)\u001b[0m\n\u001b[0;32m    331\u001b[0m \u001b[1;33m\u001b[0m\u001b[0m\n\u001b[0;32m    332\u001b[0m     \u001b[1;32mif\u001b[0m \u001b[0mpos\u001b[0m \u001b[1;32mis\u001b[0m \u001b[1;32mNone\u001b[0m\u001b[1;33m:\u001b[0m\u001b[1;33m\u001b[0m\u001b[1;33m\u001b[0m\u001b[0m\n\u001b[1;32m--> 333\u001b[1;33m         \u001b[0mpos\u001b[0m \u001b[1;33m=\u001b[0m \u001b[0mnx\u001b[0m\u001b[1;33m.\u001b[0m\u001b[0mdrawing\u001b[0m\u001b[1;33m.\u001b[0m\u001b[0mspring_layout\u001b[0m\u001b[1;33m(\u001b[0m\u001b[0mG\u001b[0m\u001b[1;33m)\u001b[0m  \u001b[1;31m# default to spring layout\u001b[0m\u001b[1;33m\u001b[0m\u001b[1;33m\u001b[0m\u001b[0m\n\u001b[0m\u001b[0;32m    334\u001b[0m \u001b[1;33m\u001b[0m\u001b[0m\n\u001b[0;32m    335\u001b[0m     \u001b[0mdraw_networkx_nodes\u001b[0m\u001b[1;33m(\u001b[0m\u001b[0mG\u001b[0m\u001b[1;33m,\u001b[0m \u001b[0mpos\u001b[0m\u001b[1;33m,\u001b[0m \u001b[1;33m**\u001b[0m\u001b[0mnode_kwds\u001b[0m\u001b[1;33m)\u001b[0m\u001b[1;33m\u001b[0m\u001b[1;33m\u001b[0m\u001b[0m\n",
      "\u001b[1;32m~\\anaconda3\\lib\\site-packages\\decorator.py\u001b[0m in \u001b[0;36mfun\u001b[1;34m(*args, **kw)\u001b[0m\n\u001b[0;32m    229\u001b[0m             \u001b[1;32mif\u001b[0m \u001b[1;32mnot\u001b[0m \u001b[0mkwsyntax\u001b[0m\u001b[1;33m:\u001b[0m\u001b[1;33m\u001b[0m\u001b[1;33m\u001b[0m\u001b[0m\n\u001b[0;32m    230\u001b[0m                 \u001b[0margs\u001b[0m\u001b[1;33m,\u001b[0m \u001b[0mkw\u001b[0m \u001b[1;33m=\u001b[0m \u001b[0mfix\u001b[0m\u001b[1;33m(\u001b[0m\u001b[0margs\u001b[0m\u001b[1;33m,\u001b[0m \u001b[0mkw\u001b[0m\u001b[1;33m,\u001b[0m \u001b[0msig\u001b[0m\u001b[1;33m)\u001b[0m\u001b[1;33m\u001b[0m\u001b[1;33m\u001b[0m\u001b[0m\n\u001b[1;32m--> 231\u001b[1;33m             \u001b[1;32mreturn\u001b[0m \u001b[0mcaller\u001b[0m\u001b[1;33m(\u001b[0m\u001b[0mfunc\u001b[0m\u001b[1;33m,\u001b[0m \u001b[1;33m*\u001b[0m\u001b[1;33m(\u001b[0m\u001b[0mextras\u001b[0m \u001b[1;33m+\u001b[0m \u001b[0margs\u001b[0m\u001b[1;33m)\u001b[0m\u001b[1;33m,\u001b[0m \u001b[1;33m**\u001b[0m\u001b[0mkw\u001b[0m\u001b[1;33m)\u001b[0m\u001b[1;33m\u001b[0m\u001b[1;33m\u001b[0m\u001b[0m\n\u001b[0m\u001b[0;32m    232\u001b[0m     \u001b[0mfun\u001b[0m\u001b[1;33m.\u001b[0m\u001b[0m__name__\u001b[0m \u001b[1;33m=\u001b[0m \u001b[0mfunc\u001b[0m\u001b[1;33m.\u001b[0m\u001b[0m__name__\u001b[0m\u001b[1;33m\u001b[0m\u001b[1;33m\u001b[0m\u001b[0m\n\u001b[0;32m    233\u001b[0m     \u001b[0mfun\u001b[0m\u001b[1;33m.\u001b[0m\u001b[0m__doc__\u001b[0m \u001b[1;33m=\u001b[0m \u001b[0mfunc\u001b[0m\u001b[1;33m.\u001b[0m\u001b[0m__doc__\u001b[0m\u001b[1;33m\u001b[0m\u001b[1;33m\u001b[0m\u001b[0m\n",
      "\u001b[1;32m~\\anaconda3\\lib\\site-packages\\networkx\\utils\\decorators.py\u001b[0m in \u001b[0;36m_random_state\u001b[1;34m(func, *args, **kwargs)\u001b[0m\n\u001b[0;32m    398\u001b[0m             \u001b[1;32mraise\u001b[0m \u001b[0mnx\u001b[0m\u001b[1;33m.\u001b[0m\u001b[0mNetworkXError\u001b[0m\u001b[1;33m(\u001b[0m\u001b[1;34m\"random_state_index must be an integer\"\u001b[0m\u001b[1;33m)\u001b[0m \u001b[1;32mfrom\u001b[0m \u001b[0me\u001b[0m\u001b[1;33m\u001b[0m\u001b[1;33m\u001b[0m\u001b[0m\n\u001b[0;32m    399\u001b[0m         \u001b[1;32mexcept\u001b[0m \u001b[0mIndexError\u001b[0m \u001b[1;32mas\u001b[0m \u001b[0me\u001b[0m\u001b[1;33m:\u001b[0m\u001b[1;33m\u001b[0m\u001b[1;33m\u001b[0m\u001b[0m\n\u001b[1;32m--> 400\u001b[1;33m             \u001b[1;32mraise\u001b[0m \u001b[0mnx\u001b[0m\u001b[1;33m.\u001b[0m\u001b[0mNetworkXError\u001b[0m\u001b[1;33m(\u001b[0m\u001b[1;34m\"random_state_index is incorrect\"\u001b[0m\u001b[1;33m)\u001b[0m \u001b[1;32mfrom\u001b[0m \u001b[0me\u001b[0m\u001b[1;33m\u001b[0m\u001b[1;33m\u001b[0m\u001b[0m\n\u001b[0m\u001b[0;32m    401\u001b[0m \u001b[1;33m\u001b[0m\u001b[0m\n\u001b[0;32m    402\u001b[0m         \u001b[1;31m# Create a numpy.random.RandomState instance\u001b[0m\u001b[1;33m\u001b[0m\u001b[1;33m\u001b[0m\u001b[1;33m\u001b[0m\u001b[0m\n",
      "\u001b[1;31mNetworkXError\u001b[0m: random_state_index is incorrect"
     ]
    },
    {
     "data": {
      "image/png": "[encoded data removed]",
      "text/plain": [
       "<Figure size 1152x576 with 1 Axes>"
      ]
     },
     "metadata": {},
     "output_type": "display_data"
    }
   ],
   "source": [
    "nx.draw(G)\n",
    "plt.show()"
   ]
  },
  {
   "cell_type": "code",
   "execution_count": null,
   "id": "4adbfa09",
   "metadata": {},
   "outputs": [],
   "source": [
    "nx.draw(G, with_labels = True)\n",
    "plt.show()"
   ]
  },
  {
   "cell_type": "code",
   "execution_count": null,
   "id": "373cc6e7",
   "metadata": {},
   "outputs": [],
   "source": [
    "\"\"\"Complete Graph: Generates complete Graph of assigned vertices and assigns it to the variable mentioned\n",
    "Complete Graph means it put all possible edges between these 10 (specified) nodes\"\"\"\n",
    "Z = nx.complete_graph(10)\n",
    "Z.nodes()"
   ]
  },
  {
   "cell_type": "code",
   "execution_count": null,
   "id": "e6eeee7e",
   "metadata": {},
   "outputs": [],
   "source": [
    "print(Z.edges())"
   ]
  },
  {
   "cell_type": "code",
   "execution_count": null,
   "id": "6774bac8",
   "metadata": {},
   "outputs": [],
   "source": [
    "\"\"\"Z.order() : Number of Nodes in the graph\"\"\"\n",
    "print(Z.order())\n",
    "\n",
    "\"\"\"Z.size() : Number of Edges in the Nodes\"\"\"\n",
    "print(Z.size())"
   ]
  },
  {
   "cell_type": "code",
   "execution_count": null,
   "id": "644de8b7",
   "metadata": {},
   "outputs": [],
   "source": [
    "nx.draw(Z, with_labels = True)\n",
    "plt.show()"
   ]
  },
  {
   "cell_type": "code",
   "execution_count": null,
   "id": "89536bcb",
   "metadata": {},
   "outputs": [],
   "source": [
    "H = nx.complete_graph(100)\n",
    "nx.draw(H)\n",
    "plt.show()"
   ]
  },
  {
   "cell_type": "code",
   "execution_count": null,
   "id": "5e80ceed",
   "metadata": {},
   "outputs": [],
   "source": [
    "\"\"\"Built In Function:\n",
    " - nx.gnp_random_graph(20, 0.5):  Graph is generated on 20 vertices\n",
    "                                 For edges we are using PROBABILITY 0.5\n",
    "                                To understand, we put the edge when we get head and we dont put the edge when we get tail\n",
    "                                We put the edge when prob = 0.5 and we dont put the edge when we get 1-0.5\"\"\"\n",
    "G = nx.gnp_random_graph(20,0.5)\n",
    "nx.draw(G)\n",
    "plt.show()"
   ]
  },
  {
   "cell_type": "markdown",
   "id": "8800e8ac",
   "metadata": {},
   "source": [
    " # Modelling road network of India's cities"
   ]
  },
  {
   "cell_type": "code",
   "execution_count": null,
   "id": "299b2d7d",
   "metadata": {
    "scrolled": true
   },
   "outputs": [],
   "source": [
    "G = nx.Graph()   # Unidirected Network Graph\n",
    "\"\"\"G = nx.DiGraph() # Directed Network Graph\"\"\"\n",
    "\n",
    "city_set = [ 'Bangalore', 'Hyderabad', 'Ahmedabad', 'Chennai', 'Kolkata', 'Surat', 'Pune', 'Jaipur']\n",
    "\n",
    "for each in city_set:\n",
    "    G.add_node(each)  # adds node to each city\n",
    "    \n",
    "nx.draw(G, with_labels = 1)\n",
    "plt.show()"
   ]
  },
  {
   "cell_type": "code",
   "execution_count": null,
   "id": "3fbc85a0",
   "metadata": {},
   "outputs": [],
   "source": [
    "\"\"\"\n",
    "G.number_of_edges() :  shows number of edges in network\n",
    "G.has_edge(c1,c2): returns True if node has the specified edges. Else: False\n",
    "\"\"\"\n",
    "\n"
   ]
  },
  {
   "cell_type": "code",
   "execution_count": null,
   "id": "1797c608",
   "metadata": {
    "scrolled": true
   },
   "outputs": [],
   "source": [
    "\"\"\"Add edges between the cities\"\"\"\n",
    "# Adding random edges and cost which will be stored in the list and later on picked from that list\n",
    "\n",
    "costs = []\n",
    "value = 100     # we will add 20 values in costs: 100-2000\n",
    "while value<= 2000:\n",
    "    costs.append(value)\n",
    "    value += 100\n",
    "    \n",
    "#  adding 16 edges to this network\n",
    "while G.number_of_edges() < 16:\n",
    "#     Now we choose two nodes randomly \n",
    "    c1 = random.choice(list(G.nodes()))\n",
    "    c2 = random.choice(list(G.nodes()))\n",
    "    \"\"\"\n",
    "    We assign weights to the city: but we cannot assign weights to same city. hence we use if statement\n",
    "    Also another situation could be: when there is already an edge present in the node. Hence we use built in function has_edge() with if statement\n",
    "    \"\"\"\n",
    "    if c1 != c2 or G.has_edge(c1,c2) == False:\n",
    "#         we add weight\n",
    "        w = random.choice(costs)\n",
    "#         we add edge(c1,c2, weight = w)\n",
    "        G.add_edge(c1,c2, weight = w)\n",
    "    \n",
    "nx.draw(G,with_labels = 1)\n",
    "plt.show()"
   ]
  },
  {
   "cell_type": "markdown",
   "id": "ef4323f9",
   "metadata": {},
   "source": [
    "## Layout of the Graph"
   ]
  },
  {
   "cell_type": "code",
   "execution_count": null,
   "id": "321e8cec",
   "metadata": {},
   "outputs": [],
   "source": [
    "\"\"\"We can change the Layout of the Graph too\"\"\"\n",
    "\n",
    "# Spectral Layout\n",
    "pos = nx.spectral_layout(G)\n",
    "nx.draw(G, pos, with_labels=1)\n",
    "plt.show()\n",
    "\n"
   ]
  },
  {
   "cell_type": "code",
   "execution_count": null,
   "id": "c8f89af5",
   "metadata": {},
   "outputs": [],
   "source": [
    "# Spring Layout\n",
    "pos = nx.spring_layout(G)\n",
    "nx.draw(G, pos, with_labels=1)\n",
    "plt.show()"
   ]
  },
  {
   "cell_type": "code",
   "execution_count": null,
   "id": "1ef6cd16",
   "metadata": {},
   "outputs": [],
   "source": [
    "# Circular Layout\n",
    "pos = nx.circular_layout(G)\n",
    "nx.draw(G, pos, with_labels=1)\n",
    "plt.show()"
   ]
  },
  {
   "cell_type": "markdown",
   "id": "6888da5e",
   "metadata": {},
   "source": [
    "## Labelling Edge weights\n"
   ]
  },
  {
   "cell_type": "code",
   "execution_count": null,
   "id": "eee72ab4",
   "metadata": {},
   "outputs": [],
   "source": [
    "\n",
    "pos = nx.circular_layout(G)\n",
    "nx.draw(G, pos, with_labels=1)\n",
    "nx.draw_networkx_edge_labels(G, pos)\n",
    "\n",
    "plt.show()"
   ]
  },
  {
   "cell_type": "markdown",
   "id": "5f7ad12d",
   "metadata": {},
   "source": [
    "## Checking Paths between the cities\n",
    "- Can we travel from one city to other: Yes, if graph is connected. Hence, first we check that.\n"
   ]
  },
  {
   "cell_type": "code",
   "execution_count": null,
   "id": "dd5d0a1c",
   "metadata": {},
   "outputs": [],
   "source": [
    "\"\"\"nx.is_connected(G): Returns true if the graph is connected\"\"\"\n",
    "print(nx.is_connected(G))"
   ]
  },
  {
   "cell_type": "code",
   "execution_count": null,
   "id": "840debb8",
   "metadata": {},
   "outputs": [],
   "source": [
    "\"\"\"We make the network NOT connected for the purpose of the course\n",
    "We can do that by reducing the number of edges (in the while loop)\"\"\"\n",
    "\n",
    "costs = []\n",
    "value = 100     # we will add 20 values in costs: 100-2000\n",
    "while value<= 2000:\n",
    "    costs.append(value)\n",
    "    value += 100\n",
    "\n",
    "#  adding 5 edges to this network: to make it disconnected network\n",
    "while G.number_of_edges() <5:\n",
    "#     Now we choose two nodes randomly \n",
    "    c1 = random.choice(city_set)\n",
    "    c2 = random.choice(city_set)\n",
    "    \"\"\"\n",
    "    We assign weights to the city: but we cannot assign weights to same city. hence we use if statement\n",
    "    Also another situation could be: when there is already an edge present in the node. \n",
    "    Hence we use built in function has_edge() with if statement\n",
    "    \"\"\"\n",
    "    if c1 != c2 or G.has_edge(c1,c2) == 0:\n",
    "#         we add weight\n",
    "        w = random.choice(costs)\n",
    "#         we add edge(c1,c2, weight = w)\n",
    "        G.add_edge(c1,c2, weight = w)\n",
    "    \n",
    "    \n",
    "# \"\"\"Checking if graph is disconnected now\"\"\"\n",
    "print(nx.is_connected(G))\n",
    "pos = nx.circular_layout(G)\n",
    "nx.draw(G,pos,with_labels = 1)\n",
    "plt.show()"
   ]
  },
  {
   "cell_type": "code",
   "execution_count": null,
   "id": "549e1e73",
   "metadata": {
    "scrolled": true
   },
   "outputs": [],
   "source": [
    "\"\"\"\n",
    "Now we check if the path between two cities exists or not\n",
    ".has_path(G,u,v): takes in Network, city1, city2 and returns True if path exists\n",
    "\"\"\"\n",
    "\n",
    "for u in G.nodes():\n",
    "    for v in G.nodes():\n",
    "        print(u,v,nx.has_path(G,u,v))\n",
    "        \n",
    "        \n",
    "        \n",
    "# Let's visualize the network simultaneously\n",
    "pos = nx.circular_layout(G)\n",
    "nx.draw(G,pos,with_labels = 1)\n",
    "plt.show()"
   ]
  },
  {
   "cell_type": "code",
   "execution_count": null,
   "id": "10b0c0ba",
   "metadata": {},
   "outputs": [],
   "source": [
    "def create_network(city, costs, num_edges):\n",
    "    G = nx.Graph()   # Unidirected Network Graph\n",
    "    \"\"\"G = nx.DiGraph() # Directed Network Graph\"\"\"\n",
    "\n",
    "    \n",
    "\n",
    "    for each in city:\n",
    "        G.add_node(each)  # adds node to each city\n",
    "        \n",
    "    #  adding 5 edges to this network: to make it disconnected network\n",
    "    while G.number_of_edges() <num_edges:\n",
    "    #     Now we choose two nodes randomly \n",
    "        c1 = random.choice(city)\n",
    "        c2 = random.choice(city)\n",
    "        \"\"\"\n",
    "        We assign weights to the city: but we cannot assign weights to same city. hence we use if statement\n",
    "        Also another situation could be: when there is already an edge present in the node. \n",
    "        Hence we use built in function has_edge() with if statement\n",
    "        \"\"\"\n",
    "        if c1 != c2 or G.has_edge(c1,c2) == 0:\n",
    "    #         we add weight\n",
    "            w = random.choice(costs)\n",
    "    #         we add edge(c1,c2, weight = w)\n",
    "            G.add_edge(c1,c2, weight = w)\n",
    "    return G"
   ]
  },
  {
   "cell_type": "code",
   "execution_count": null,
   "id": "694a5001",
   "metadata": {},
   "outputs": [],
   "source": [
    "\"\"\"Defining Citites\"\"\"\n",
    "city_set = ['Delhi','Bangalore', 'Hyderabad', 'Ahmedabad', 'Chennai', 'Kolkata', 'Surat', 'Pune', 'Jaipur']\n",
    "\n",
    "\n",
    "\"\"\"Add edges between the cities\"\"\"\n",
    "# Adding random edges and cost which will be stored in the list and later on picked from that list\n",
    "\n",
    "costs = []\n",
    "value = 100     # we will add 20 values in costs: 100-2000\n",
    "while value<= 2000:\n",
    "    costs.append(value)\n",
    "    value += 100"
   ]
  },
  {
   "cell_type": "code",
   "execution_count": null,
   "id": "fad79246",
   "metadata": {},
   "outputs": [],
   "source": [
    "G = create_network(city= city_set, costs =costs, num_edges = 10)\n",
    "pos = nx.circular_layout(G)\n",
    "nx.draw(G,pos,with_labels = 1)\n",
    "plt.show()"
   ]
  },
  {
   "cell_type": "markdown",
   "id": "aa60a2fe",
   "metadata": {},
   "source": [
    "## Shortest path algorithms for weighed graphs."
   ]
  },
  {
   "cell_type": "code",
   "execution_count": null,
   "id": "195608f2",
   "metadata": {},
   "outputs": [],
   "source": [
    "u = 'Bangalore'\n",
    "v = 'Surat'\n",
    "\n",
    "\"\"\"Shortest Route\"\"\"\n",
    "print(nx.dijkstra_path(G, u, v))"
   ]
  },
  {
   "cell_type": "code",
   "execution_count": null,
   "id": "16a5ab04",
   "metadata": {},
   "outputs": [],
   "source": [
    "\"\"\"Shortest Distance\"\"\"\n",
    "print(nx.dijkstra_path_length(G,'Bangalore','Surat'))"
   ]
  },
  {
   "cell_type": "code",
   "execution_count": null,
   "id": "3aee8e7a",
   "metadata": {},
   "outputs": [],
   "source": [
    "\"\"\"Breaking the Distance\"\"\"\n",
    "print(nx.dijkstra_path_length(G,'Bangalore','Ahmedabad'))\n",
    "print(nx.dijkstra_path_length(G,'Ahmedabad','Jaipur'))\n",
    "print(nx.dijkstra_path_length(G,'Jaipur','Surat'))"
   ]
  },
  {
   "cell_type": "code",
   "execution_count": null,
   "id": "01176d1b",
   "metadata": {},
   "outputs": [],
   "source": [
    "\"\"\"When no path is possible we get key error\n",
    "We can use exception handling to get rid of the error.\n",
    "print something like infinity etc.\"\"\"\n",
    "G = create_network(city_set, costs, 0)\n",
    "print(nx.dijkstra_path_length(G,'Delhi', 'Bangalore'))"
   ]
  },
  {
   "cell_type": "code",
   "execution_count": null,
   "id": "1ec2bdff",
   "metadata": {},
   "outputs": [],
   "source": [
    "for num_edge in [0,5,7,10,20,30]:\n",
    "    G = create_network(city_set, costs, num_edges = num_edge)\n",
    "    try: \n",
    "        l = nx.dijkstra_path_length(G,'Delhi', 'Bangalore')\n",
    "    except:\n",
    "        l = 1000000\n",
    "    print(\"Path Length = \", l)"
   ]
  },
  {
   "cell_type": "code",
   "execution_count": null,
   "id": "d9ff4e24",
   "metadata": {},
   "outputs": [],
   "source": [
    "def add_random_edge(G, costs):\n",
    "#     Now we choose two nodes randomly \n",
    "    c1 = random.choice(list(G.nodes()))\n",
    "    c2 = random.choice(list(G.nodes()))\n",
    "    \"\"\"\n",
    "    We assign weights to the city: but we cannot assign weights to same city. hence we use if statement\n",
    "    Also another situation could be: when there is already an edge present in the node. \n",
    "    Hence we use built in function has_edge() with if statement\n",
    "    \"\"\"\n",
    "    if c1 != c2 or G.has_edge(c1,c2) == 0:\n",
    "#         we add weight\n",
    "        w = random.choice(costs)\n",
    "#         we add edge(c1,c2, weight = w)\n",
    "        G.add_edge(c1,c2, weight = w)"
   ]
  },
  {
   "cell_type": "code",
   "execution_count": null,
   "id": "013a69cb",
   "metadata": {},
   "outputs": [],
   "source": [
    "# l = 10000\n",
    "\"\"\"Plotting a graph\"\"\"\n",
    "x = [0] # x axis\n",
    "y = [l] # y axis (Very big number)\n",
    "for t in range(1,11):\n",
    "    add_random_edge(G,costs)\n",
    "    x.append(t)\n",
    "    try:\n",
    "        l = nx.dijkstra_path_length(G, 'Delhi', 'Bangalore')\n",
    "        y.append(l)\n",
    "        break \n",
    "    except:\n",
    "        l = 10000\n",
    "        y.append(10000)\n",
    "    \n",
    "\n",
    "plt.xlabel('Time')\n",
    "plt.ylabel('Travelling Cost')\n",
    "plt.title('Change in travelling cost as more roads are added')\n",
    "plt.plot(x,y)\n",
    "plt.show()"
   ]
  }
 ],
 "metadata": {
  "kernelspec": {
   "display_name": "Python 3",
   "language": "python",
   "name": "python3"
  },
  "language_info": {
   "codemirror_mode": {
    "name": "ipython",
    "version": 3
   },
   "file_extension": ".py",
   "mimetype": "text/x-python",
   "name": "python",
   "nbconvert_exporter": "python",
   "pygments_lexer": "ipython3",
   "version": "3.8.8"
  }
 },
 "nbformat": 4,
 "nbformat_minor": 5
}
